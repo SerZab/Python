{
 "cells": [
  {
   "cell_type": "code",
   "execution_count": 2,
   "id": "ead0ead2",
   "metadata": {},
   "outputs": [
    {
     "name": "stdout",
     "output_type": "stream",
     "text": [
      "Hello from outside\n"
     ]
    }
   ],
   "source": [
    "# Привет\n",
    "def function1():\n",
    "    print ('Hello!')\n",
    "    print ('Hello2')\n",
    "print ('Hello from outside')"
   ]
  },
  {
   "cell_type": "code",
   "execution_count": 3,
   "id": "cd1fa6fc",
   "metadata": {},
   "outputs": [
    {
     "name": "stdout",
     "output_type": "stream",
     "text": [
      "Hello!\n",
      "Hello2\n",
      "Hello!\n",
      "Hello2\n",
      "Hello!\n",
      "Hello2\n"
     ]
    }
   ],
   "source": [
    "function1()\n",
    "function1()\n",
    "function1()"
   ]
  },
  {
   "cell_type": "code",
   "execution_count": 4,
   "id": "c5813023",
   "metadata": {},
   "outputs": [],
   "source": [
    "def function2 (x):\n",
    "    return 2*x"
   ]
  },
  {
   "cell_type": "code",
   "execution_count": 5,
   "id": "55bc43f9",
   "metadata": {},
   "outputs": [
    {
     "name": "stdout",
     "output_type": "stream",
     "text": [
      "20\n"
     ]
    }
   ],
   "source": [
    "a = function2 (10)\n",
    "print(a)"
   ]
  },
  {
   "cell_type": "code",
   "execution_count": 6,
   "id": "d6dca0a8",
   "metadata": {},
   "outputs": [
    {
     "name": "stdout",
     "output_type": "stream",
     "text": [
      "40\n"
     ]
    }
   ],
   "source": [
    "print (function2(20))"
   ]
  },
  {
   "cell_type": "code",
   "execution_count": 7,
   "id": "b1defab1",
   "metadata": {},
   "outputs": [],
   "source": [
    "def function3 (a, b):\n",
    "    return a+b"
   ]
  },
  {
   "cell_type": "code",
   "execution_count": 8,
   "id": "0650836f",
   "metadata": {},
   "outputs": [
    {
     "name": "stdout",
     "output_type": "stream",
     "text": [
      "9\n"
     ]
    }
   ],
   "source": [
    "e = function3 (4,5)\n",
    "print (e)"
   ]
  },
  {
   "cell_type": "code",
   "execution_count": 9,
   "id": "b191d927",
   "metadata": {},
   "outputs": [
    {
     "name": "stdout",
     "output_type": "stream",
     "text": [
      "10\n",
      "Function4\n",
      "30\n"
     ]
    }
   ],
   "source": [
    "def function4(x):\n",
    "    print (x)\n",
    "    print ('Function4')\n",
    "    return x*3\n",
    "\n",
    "a = function4 (10)\n",
    "print (a)"
   ]
  },
  {
   "cell_type": "code",
   "execution_count": 2,
   "id": "5d13d63f",
   "metadata": {},
   "outputs": [],
   "source": [
    "name1 = 'Tom'\n",
    "height1 = 1.90\n",
    "weight1 = 80\n",
    "name2 = 'Katy'\n",
    "height2 = 1.70\n",
    "weight2 = 60\n",
    "name3 = 'Bob'\n",
    "height3 = 1.99\n",
    "weight3 = 100"
   ]
  },
  {
   "cell_type": "code",
   "execution_count": 3,
   "id": "04fbd48b",
   "metadata": {},
   "outputs": [],
   "source": [
    "def bmi_calculator (name, height, weight):\n",
    "    bmi = weight / (height ** 2)\n",
    "    \n",
    "    print (\"Индекс массы тела\" + str(bmi))\n",
    "    \n",
    "    if bmi < 25:\n",
    "        return name + \" не имеет лишнего веса\"\n",
    "    else:\n",
    "        return name + \" имеет лишний вес\""
   ]
  },
  {
   "cell_type": "code",
   "execution_count": 5,
   "id": "fdde16e0",
   "metadata": {},
   "outputs": [
    {
     "name": "stdout",
     "output_type": "stream",
     "text": [
      "Индекс массы тела22.1606648199446\n",
      "Индекс массы тела20.761245674740486\n",
      "Индекс массы тела25.2518875785965\n"
     ]
    }
   ],
   "source": [
    "bmi1 = bmi_calculator(name1, height1, weight1)\n",
    "bmi2 = bmi_calculator(name2, height2, weight2)\n",
    "bmi3 = bmi_calculator(name3, height3, weight3)"
   ]
  },
  {
   "cell_type": "code",
   "execution_count": 6,
   "id": "2bf495af",
   "metadata": {},
   "outputs": [
    {
     "name": "stdout",
     "output_type": "stream",
     "text": [
      "Tom не имеет лишнего веса\n",
      "Katy не имеет лишнего веса\n",
      "Bob имеет лишний вес\n"
     ]
    }
   ],
   "source": [
    "print (bmi1)\n",
    "print (bmi2)\n",
    "print (bmi3)"
   ]
  },
  {
   "cell_type": "code",
   "execution_count": 13,
   "id": "3597e822",
   "metadata": {},
   "outputs": [],
   "source": [
    "def convertMiles (km):\n",
    "    return km / 1.609"
   ]
  },
  {
   "cell_type": "code",
   "execution_count": 14,
   "id": "4c8daa43",
   "metadata": {},
   "outputs": [
    {
     "name": "stdout",
     "output_type": "stream",
     "text": [
      "62.15040397762586\n"
     ]
    }
   ],
   "source": [
    "a = convertMiles(100)\n",
    "print (a)"
   ]
  },
  {
   "cell_type": "code",
   "execution_count": 24,
   "id": "562a0561",
   "metadata": {},
   "outputs": [],
   "source": [
    "def isEvenOrNot (x):\n",
    "    if x%2 == 0:\n",
    "        print ('Even')\n",
    "    else:\n",
    "        print ('Not even')"
   ]
  },
  {
   "cell_type": "code",
   "execution_count": 25,
   "id": "1319ed54",
   "metadata": {},
   "outputs": [
    {
     "name": "stdout",
     "output_type": "stream",
     "text": [
      "Not even\n",
      "None\n"
     ]
    }
   ],
   "source": [
    "a = isEvenOrNot(201)\n",
    "print(a)"
   ]
  },
  {
   "cell_type": "code",
   "execution_count": null,
   "id": "f46c991c",
   "metadata": {},
   "outputs": [],
   "source": []
  }
 ],
 "metadata": {
  "kernelspec": {
   "display_name": "Python 3 (ipykernel)",
   "language": "python",
   "name": "python3"
  },
  "language_info": {
   "codemirror_mode": {
    "name": "ipython",
    "version": 3
   },
   "file_extension": ".py",
   "mimetype": "text/x-python",
   "name": "python",
   "nbconvert_exporter": "python",
   "pygments_lexer": "ipython3",
   "version": "3.9.13"
  }
 },
 "nbformat": 4,
 "nbformat_minor": 5
}
