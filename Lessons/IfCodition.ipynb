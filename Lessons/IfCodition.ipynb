{
 "cells": [
  {
   "cell_type": "code",
   "execution_count": 7,
   "id": "c9ebc303",
   "metadata": {},
   "outputs": [
    {
     "name": "stdout",
     "output_type": "stream",
     "text": [
      "out of condition If\n"
     ]
    }
   ],
   "source": [
    "a = 3\n",
    "b = 2\n",
    "if a<b:\n",
    "    print ('a less than b!')\n",
    "    print ('a really less than b!')\n",
    "print ('out of condition If')"
   ]
  },
  {
   "cell_type": "code",
   "execution_count": 9,
   "id": "e5c6bdbf",
   "metadata": {},
   "outputs": [
    {
     "name": "stdout",
     "output_type": "stream",
     "text": [
      "c more than d\n",
      "c really less than d!\n",
      "out of condition If\n"
     ]
    }
   ],
   "source": [
    "c = 5\n",
    "d = 4\n",
    "if c<d:\n",
    "    print ('c less than d')\n",
    "else:\n",
    "    print ('c more than d')\n",
    "    print ('c really less than d!')\n",
    "print ('out of condition If')"
   ]
  },
  {
   "cell_type": "code",
   "execution_count": 19,
   "id": "17bbe50d",
   "metadata": {},
   "outputs": [
    {
     "name": "stdout",
     "output_type": "stream",
     "text": [
      "e less than f\n"
     ]
    }
   ],
   "source": [
    "e = 7\n",
    "f = 8\n",
    "if e<f:\n",
    "    print ('e less than f')\n",
    "elif e==f:\n",
    "    print ('e equal f')\n",
    "else:\n",
    "    print ('e more than f')"
   ]
  },
  {
   "cell_type": "code",
   "execution_count": 25,
   "id": "7a41ae49",
   "metadata": {},
   "outputs": [
    {
     "name": "stdout",
     "output_type": "stream",
     "text": [
      "Index massy tela: 20.0\n",
      "У Tom нет лишнего веса\n"
     ]
    }
   ],
   "source": [
    "name = \"Tom\"\n",
    "height = 2\n",
    "weight = 110\n",
    "bmi = weight / (height ** 2)\n",
    "print (\"Index massy tela: \" + str(bmi))\n",
    "\n",
    "if bmi < 25:\n",
    "    print (\"У \" + name + \" нет лишнего веса\")\n",
    "else:\n",
    "    print (\"У \" + name + \" есть лишний вес\")"
   ]
  },
  {
   "cell_type": "code",
   "execution_count": 4,
   "id": "9758d229",
   "metadata": {},
   "outputs": [
    {
     "name": "stdout",
     "output_type": "stream",
     "text": [
      "my bool is False\n"
     ]
    }
   ],
   "source": [
    "my_bool = 10 > 20\n",
    "print ('my bool is '+ str(my_bool))"
   ]
  },
  {
   "cell_type": "code",
   "execution_count": null,
   "id": "122d55f5",
   "metadata": {},
   "outputs": [],
   "source": []
  }
 ],
 "metadata": {
  "kernelspec": {
   "display_name": "Python 3 (ipykernel)",
   "language": "python",
   "name": "python3"
  },
  "language_info": {
   "codemirror_mode": {
    "name": "ipython",
    "version": 3
   },
   "file_extension": ".py",
   "mimetype": "text/x-python",
   "name": "python",
   "nbconvert_exporter": "python",
   "pygments_lexer": "ipython3",
   "version": "3.9.13"
  }
 },
 "nbformat": 4,
 "nbformat_minor": 5
}
