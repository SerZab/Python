{
 "cells": [
  {
   "cell_type": "code",
   "execution_count": 1,
   "metadata": {
    "collapsed": true
   },
   "outputs": [
    {
     "name": "stdout",
     "output_type": "stream",
     "text": [
      "{'Petr': 25, 'Alex': 37, 'Katy': 23}\n"
     ]
    }
   ],
   "source": [
    "d = {'Petr':25, \"Alex\":37, 'Katy':23}\n",
    "print(d)"
   ]
  },
  {
   "cell_type": "code",
   "execution_count": 2,
   "outputs": [
    {
     "data": {
      "text/plain": "3"
     },
     "execution_count": 2,
     "metadata": {},
     "output_type": "execute_result"
    }
   ],
   "source": [
    "len(d)"
   ],
   "metadata": {
    "collapsed": false
   }
  },
  {
   "cell_type": "code",
   "execution_count": 3,
   "outputs": [],
   "source": [
    "d['Swes'] = 31"
   ],
   "metadata": {
    "collapsed": false
   }
  },
  {
   "cell_type": "code",
   "execution_count": 4,
   "outputs": [
    {
     "name": "stdout",
     "output_type": "stream",
     "text": [
      "{'Petr': 25, 'Alex': 37, 'Katy': 23, 'Swes': 31}\n"
     ]
    }
   ],
   "source": [
    "print(d)"
   ],
   "metadata": {
    "collapsed": false
   }
  },
  {
   "cell_type": "code",
   "execution_count": 5,
   "outputs": [
    {
     "name": "stdout",
     "output_type": "stream",
     "text": [
      "25\n"
     ]
    }
   ],
   "source": [
    "print (d['Petr'])"
   ],
   "metadata": {
    "collapsed": false
   }
  },
  {
   "cell_type": "code",
   "execution_count": 6,
   "outputs": [
    {
     "name": "stdout",
     "output_type": "stream",
     "text": [
      "23\n"
     ]
    }
   ],
   "source": [
    "print(d['Katy'])"
   ],
   "metadata": {
    "collapsed": false
   }
  },
  {
   "cell_type": "code",
   "execution_count": 11,
   "outputs": [],
   "source": [
    "d['Katy'] = d['Katy']+5"
   ],
   "metadata": {
    "collapsed": false
   }
  },
  {
   "cell_type": "code",
   "execution_count": 12,
   "outputs": [
    {
     "name": "stdout",
     "output_type": "stream",
     "text": [
      "{'Petr': 25, 'Alex': 37, 'Katy': 30, 'Swes': 31}\n"
     ]
    }
   ],
   "source": [
    "print (d)"
   ],
   "metadata": {
    "collapsed": false
   }
  },
  {
   "cell_type": "code",
   "execution_count": 13,
   "outputs": [],
   "source": [
    "d [10] = 'Bob'"
   ],
   "metadata": {
    "collapsed": false
   }
  },
  {
   "cell_type": "code",
   "execution_count": 14,
   "outputs": [
    {
     "name": "stdout",
     "output_type": "stream",
     "text": [
      "{'Petr': 25, 'Alex': 37, 'Katy': 30, 'Swes': 31, 10: 'Bob'}\n"
     ]
    }
   ],
   "source": [
    "print (d)"
   ],
   "metadata": {
    "collapsed": false
   }
  },
  {
   "cell_type": "code",
   "execution_count": 15,
   "outputs": [
    {
     "name": "stdout",
     "output_type": "stream",
     "text": [
      "Petr\n",
      "25\n",
      "Alex\n",
      "37\n",
      "Katy\n",
      "30\n",
      "Swes\n",
      "31\n",
      "10\n",
      "Bob\n"
     ]
    }
   ],
   "source": [
    "for key, value in d.items():\n",
    "    print(key)\n",
    "    print(value)"
   ],
   "metadata": {
    "collapsed": false
   }
  },
  {
   "cell_type": "code",
   "execution_count": 17,
   "outputs": [
    {
     "name": "stdout",
     "output_type": "stream",
     "text": [
      "ключ: Petr значение: 25\n",
      "ключ: Alex значение: 37\n",
      "ключ: Katy значение: 30\n",
      "ключ: Swes значение: 31\n",
      "ключ: 10 значение: Bob\n"
     ]
    }
   ],
   "source": [
    "for key, value in d.items():\n",
    "    print('ключ: ' + str(key)+ ' значение: '+str(value))"
   ],
   "metadata": {
    "collapsed": false
   }
  },
  {
   "cell_type": "code",
   "execution_count": 19,
   "outputs": [],
   "source": [
    "a = ['first', 1, 2,3, 'second', 4,5, 'third', 32, 21, 2, 'fourth', -34]"
   ],
   "metadata": {
    "collapsed": false
   }
  },
  {
   "cell_type": "code",
   "execution_count": 20,
   "outputs": [],
   "source": [
    "my_dict = {}"
   ],
   "metadata": {
    "collapsed": false
   }
  },
  {
   "cell_type": "code",
   "execution_count": 22,
   "outputs": [],
   "source": [
    "current_str = None"
   ],
   "metadata": {
    "collapsed": false
   }
  },
  {
   "cell_type": "code",
   "execution_count": 24,
   "outputs": [
    {
     "name": "stdout",
     "output_type": "stream",
     "text": [
      "{'first': [1, 2, 3], 'second': [4, 5], 'third': [32, 21, 2], 'fourth': [-34]}\n"
     ]
    }
   ],
   "source": [
    "for i in a:\n",
    "    if type(i) == str:\n",
    "        my_dict[i] = []\n",
    "        current_str=i\n",
    "    else:\n",
    "        my_dict[current_str].append(i)\n",
    "\n",
    "print(my_dict)"
   ],
   "metadata": {
    "collapsed": false
   }
  },
  {
   "cell_type": "code",
   "execution_count": 29,
   "outputs": [
    {
     "name": "stdout",
     "output_type": "stream",
     "text": [
      "[1, 'first', 'second', 'third', 2, 'jhfdh', 'dfjhdjfhd', 3, 'eruuei', 'iruitruit', 'jkdj', 4, 'kdfjkdkjf', 'kfkf']\n"
     ]
    }
   ],
   "source": [
    "b = [1, 'first', 'second','third', 2, 'jhfdh', 'dfjhdjfhd', 3, 'eruuei', 'iruitruit', 'jkdj', 4, 'kdfjkdkjf', 'kfkf']\n",
    "print(b)"
   ],
   "metadata": {
    "collapsed": false
   }
  },
  {
   "cell_type": "code",
   "execution_count": 28,
   "outputs": [],
   "source": [
    "bb = {}"
   ],
   "metadata": {
    "collapsed": false
   }
  },
  {
   "cell_type": "code",
   "execution_count": 27,
   "outputs": [],
   "source": [
    "num = 0"
   ],
   "metadata": {
    "collapsed": false
   }
  },
  {
   "cell_type": "code",
   "execution_count": 30,
   "outputs": [
    {
     "name": "stdout",
     "output_type": "stream",
     "text": [
      "{1: ['first', 'second', 'third'], 2: ['jhfdh', 'dfjhdjfhd'], 3: ['eruuei', 'iruitruit', 'jkdj'], 4: ['kdfjkdkjf', 'kfkf']}\n"
     ]
    }
   ],
   "source": [
    "for j in b:\n",
    "    if type(j) == int:\n",
    "        bb[j] = []\n",
    "        num =j\n",
    "    else:\n",
    "        bb[num].append(j)\n",
    "print(bb)"
   ],
   "metadata": {
    "collapsed": false
   }
  },
  {
   "cell_type": "code",
   "execution_count": 32,
   "outputs": [
    {
     "name": "stdout",
     "output_type": "stream",
     "text": [
      "10\n"
     ]
    }
   ],
   "source": [
    "r = 0\n",
    "for h in b:\n",
    "    if type(h) == str:\n",
    "        r +=1\n",
    "print(r)"
   ],
   "metadata": {
    "collapsed": false
   }
  },
  {
   "cell_type": "code",
   "execution_count": 51,
   "outputs": [],
   "source": [
    "my_text = 'Привет пока привет как дела привет аебуз велосипед цтол как дикфйгфкйг дела привет слон да привет'"
   ],
   "metadata": {
    "collapsed": false
   }
  },
  {
   "cell_type": "code",
   "execution_count": 52,
   "outputs": [],
   "source": [
    "my_dict = {}"
   ],
   "metadata": {
    "collapsed": false
   }
  },
  {
   "cell_type": "code",
   "execution_count": 53,
   "outputs": [
    {
     "name": "stdout",
     "output_type": "stream",
     "text": [
      "{'Привет': 1, 'пока': 1, 'привет': 4, 'как': 2, 'дела': 2, 'аебуз': 1, 'велосипед': 1, 'цтол': 1, 'дикфйгфкйг': 1, 'слон': 1, 'да': 1}\n"
     ]
    }
   ],
   "source": [
    "for word in my_text.split():\n",
    "    if word in my_dict:\n",
    "        my_dict[word] = my_dict[word] + 1\n",
    "    else:\n",
    "        my_dict[word] = 1\n",
    "print(my_dict)"
   ],
   "metadata": {
    "collapsed": false
   }
  },
  {
   "cell_type": "code",
   "execution_count": 55,
   "outputs": [
    {
     "name": "stdout",
     "output_type": "stream",
     "text": [
      "{'Привет': 1, 'пока': 1, 'привет': 4, 'как': 2, 'дела': 2, 'аебуз': 1, 'велосипед': 1, 'цтол': 1, 'дикфйгфкйг': 1, 'слон': 1, 'да': 1}\n"
     ]
    }
   ],
   "source": [
    "my_dict2 = {}\n",
    "for word in my_text.split():\n",
    "    my_dict2[word] = my_dict2.get(word, 0)+1\n",
    "print(my_dict2)"
   ],
   "metadata": {
    "collapsed": false
   }
  },
  {
   "cell_type": "code",
   "execution_count": null,
   "outputs": [],
   "source": [],
   "metadata": {
    "collapsed": false
   }
  }
 ],
 "metadata": {
  "kernelspec": {
   "display_name": "Python 3",
   "language": "python",
   "name": "python3"
  },
  "language_info": {
   "codemirror_mode": {
    "name": "ipython",
    "version": 2
   },
   "file_extension": ".py",
   "mimetype": "text/x-python",
   "name": "python",
   "nbconvert_exporter": "python",
   "pygments_lexer": "ipython2",
   "version": "2.7.6"
  }
 },
 "nbformat": 4,
 "nbformat_minor": 0
}
