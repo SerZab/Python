{
 "cells": [
  {
   "cell_type": "code",
   "execution_count": 1,
   "id": "d4cb00bb",
   "metadata": {},
   "outputs": [],
   "source": [
    "a =[3,4,67,-2,34,0,3]"
   ]
  },
  {
   "cell_type": "code",
   "execution_count": 2,
   "id": "9b3d7bde",
   "metadata": {},
   "outputs": [
    {
     "name": "stdout",
     "output_type": "stream",
     "text": [
      "[3, 4, 67, -2, 34, 0, 3]\n"
     ]
    }
   ],
   "source": [
    "print(a)"
   ]
  },
  {
   "cell_type": "code",
   "execution_count": 5,
   "id": "30f660c2",
   "metadata": {},
   "outputs": [],
   "source": [
    "a.append(15)"
   ]
  },
  {
   "cell_type": "code",
   "execution_count": 6,
   "id": "acc34378",
   "metadata": {},
   "outputs": [
    {
     "name": "stdout",
     "output_type": "stream",
     "text": [
      "[3, 4, 67, -2, 34, 0, 3, 15]\n"
     ]
    }
   ],
   "source": [
    "print(a)"
   ]
  },
  {
   "cell_type": "code",
   "execution_count": 7,
   "id": "8e1e355c",
   "metadata": {},
   "outputs": [],
   "source": [
    "a.append('hi!')"
   ]
  },
  {
   "cell_type": "code",
   "execution_count": 8,
   "id": "93bba36f",
   "metadata": {},
   "outputs": [
    {
     "name": "stdout",
     "output_type": "stream",
     "text": [
      "[3, 4, 67, -2, 34, 0, 3, 15, 'hi!']\n"
     ]
    }
   ],
   "source": [
    "print(a)"
   ]
  },
  {
   "cell_type": "code",
   "execution_count": 9,
   "id": "a7ac98b4",
   "metadata": {},
   "outputs": [],
   "source": [
    "a.append([2,3,5,67])"
   ]
  },
  {
   "cell_type": "code",
   "execution_count": 10,
   "id": "07bab6b1",
   "metadata": {},
   "outputs": [
    {
     "name": "stdout",
     "output_type": "stream",
     "text": [
      "[3, 4, 67, -2, 34, 0, 3, 15, 'hi!', [2, 3, 5, 67]]\n"
     ]
    }
   ],
   "source": [
    "print(a)"
   ]
  },
  {
   "cell_type": "code",
   "execution_count": 11,
   "id": "1b0df7b0",
   "metadata": {},
   "outputs": [
    {
     "data": {
      "text/plain": [
       "[2, 3, 5, 67]"
      ]
     },
     "execution_count": 11,
     "metadata": {},
     "output_type": "execute_result"
    }
   ],
   "source": [
    "a.pop()"
   ]
  },
  {
   "cell_type": "code",
   "execution_count": 12,
   "id": "2ce2988a",
   "metadata": {},
   "outputs": [
    {
     "name": "stdout",
     "output_type": "stream",
     "text": [
      "[3, 4, 67, -2, 34, 0, 3, 15, 'hi!']\n"
     ]
    }
   ],
   "source": [
    "print(a)"
   ]
  },
  {
   "cell_type": "code",
   "execution_count": 13,
   "id": "7f11c718",
   "metadata": {},
   "outputs": [
    {
     "name": "stdout",
     "output_type": "stream",
     "text": [
      "4\n"
     ]
    }
   ],
   "source": [
    "print(a[1])"
   ]
  },
  {
   "cell_type": "code",
   "execution_count": 15,
   "id": "c424ff1c",
   "metadata": {},
   "outputs": [
    {
     "name": "stdout",
     "output_type": "stream",
     "text": [
      "hi!\n"
     ]
    }
   ],
   "source": [
    "print (a[-1])"
   ]
  },
  {
   "cell_type": "code",
   "execution_count": 16,
   "id": "04d2477b",
   "metadata": {},
   "outputs": [
    {
     "name": "stdout",
     "output_type": "stream",
     "text": [
      "[1000, 4, 67, -2, 34, 0, 3, 15, 'hi!']\n"
     ]
    }
   ],
   "source": [
    "a[0] = 1000\n",
    "print(a)"
   ]
  },
  {
   "cell_type": "code",
   "execution_count": 18,
   "id": "4359ee8c",
   "metadata": {},
   "outputs": [
    {
     "data": {
      "text/plain": [
       "67"
      ]
     },
     "execution_count": 18,
     "metadata": {},
     "output_type": "execute_result"
    }
   ],
   "source": [
    "a.pop(2)"
   ]
  },
  {
   "cell_type": "code",
   "execution_count": 19,
   "id": "318d308a",
   "metadata": {},
   "outputs": [
    {
     "name": "stdout",
     "output_type": "stream",
     "text": [
      "[1000, 4, -2, 34, 0, 3, 15, 'hi!']\n"
     ]
    }
   ],
   "source": [
    "print(a)"
   ]
  },
  {
   "cell_type": "code",
   "execution_count": 20,
   "id": "44d790fc",
   "metadata": {},
   "outputs": [],
   "source": [
    "b = ['hello','goodbyy', 'dhfdhf']"
   ]
  },
  {
   "cell_type": "code",
   "execution_count": 21,
   "id": "8a00062e",
   "metadata": {},
   "outputs": [
    {
     "name": "stdout",
     "output_type": "stream",
     "text": [
      "['dhfdhf', 'goodbyy', 'hello']\n"
     ]
    }
   ],
   "source": [
    "temp = b[0]\n",
    "b[0]=b[2]\n",
    "b[2]=temp\n",
    "print(b)"
   ]
  }
 ],
 "metadata": {
  "kernelspec": {
   "display_name": "Python 3 (ipykernel)",
   "language": "python",
   "name": "python3"
  },
  "language_info": {
   "codemirror_mode": {
    "name": "ipython",
    "version": 3
   },
   "file_extension": ".py",
   "mimetype": "text/x-python",
   "name": "python",
   "nbconvert_exporter": "python",
   "pygments_lexer": "ipython3",
   "version": "3.9.13"
  }
 },
 "nbformat": 4,
 "nbformat_minor": 5
}
