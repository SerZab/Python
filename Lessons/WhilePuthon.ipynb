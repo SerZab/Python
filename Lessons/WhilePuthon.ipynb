{
 "cells": [
  {
   "cell_type": "code",
   "execution_count": 12,
   "metadata": {
    "collapsed": true
   },
   "outputs": [
    {
     "name": "stdout",
     "output_type": "stream",
     "text": [
      "1\n",
      "3\n",
      "6\n",
      "10\n",
      "15\n",
      "21\n",
      "28\n",
      "36\n",
      "45\n",
      "45\n"
     ]
    }
   ],
   "source": [
    "total = 0\n",
    "for i in range(1, 10):\n",
    "    total += i\n",
    "    print(total)\n",
    "print(total)"
   ]
  },
  {
   "cell_type": "code",
   "execution_count": 13,
   "outputs": [
    {
     "name": "stdout",
     "output_type": "stream",
     "text": [
      "190\n"
     ]
    }
   ],
   "source": [
    "total1 = 0\n",
    "j = 0\n",
    "while j < 20:\n",
    "    total1 += j\n",
    "    j += 1\n",
    "print(total1)"
   ],
   "metadata": {
    "collapsed": false
   }
  },
  {
   "cell_type": "code",
   "execution_count": 25,
   "outputs": [
    {
     "name": "stdout",
     "output_type": "stream",
     "text": [
      "83\n",
      "83\n"
     ]
    }
   ],
   "source": [
    "my_list = [20,10,32,10,8,2,1, -1, -3, -43, -5]\n",
    "\n",
    "total3 = 0\n",
    "t = 0\n",
    "\n",
    "while t <len(my_list) and my_list[t] > 0:\n",
    "    total3 += my_list[t]\n",
    "    t+=1\n",
    "\n",
    "total4 = 0\n",
    "for e in my_list:\n",
    "    if e <= 0:\n",
    "        break\n",
    "    total4 += e\n",
    "\n",
    "print(total3)\n",
    "print (total3)"
   ],
   "metadata": {
    "collapsed": false
   }
  },
  {
   "cell_type": "code",
   "execution_count": 19,
   "outputs": [
    {
     "name": "stdout",
     "output_type": "stream",
     "text": [
      "62\n"
     ]
    }
   ],
   "source": [
    "total5 = 0\n",
    "i3 = 0\n",
    "\n",
    "while total5 < 50 and my_list[i3] >0:\n",
    "    total5 += my_list[i3]\n",
    "    i3 +=1\n",
    "print(total5)"
   ],
   "metadata": {
    "collapsed": false
   }
  },
  {
   "cell_type": "code",
   "execution_count": 26,
   "outputs": [
    {
     "name": "stdout",
     "output_type": "stream",
     "text": [
      "-52\n"
     ]
    }
   ],
   "source": [
    "sums = 0\n",
    "for elem in my_list:\n",
    "    if elem < 0:\n",
    "        sums += elem\n",
    "print (sums)"
   ],
   "metadata": {
    "collapsed": false
   }
  },
  {
   "cell_type": "code",
   "execution_count": 28,
   "outputs": [
    {
     "name": "stdout",
     "output_type": "stream",
     "text": [
      "check\n",
      "this\n",
      "figa\n",
      "sound\n",
      "man\n"
     ]
    }
   ],
   "source": [
    "words = ['check', 'this', 'figa', 'sound', 'man', 'stop', 'its a hot']\n",
    "for element in words:\n",
    "    if element == 'stop':\n",
    "        break\n",
    "    print(element)"
   ],
   "metadata": {
    "collapsed": false
   }
  },
  {
   "cell_type": "code",
   "execution_count": 29,
   "outputs": [
    {
     "name": "stdout",
     "output_type": "stream",
     "text": [
      "-61\n"
     ]
    }
   ],
   "source": [
    "my_list2 = [7, 5, 4, 4, 3, 2, 1, -5 ,-10 ,-13 ,-15 ,-18]\n",
    "\n",
    "total5 = 0\n",
    "i5 = len(my_list2) - 1\n",
    "\n",
    "while i5 >= 0 and my_list2[i5] < 0:\n",
    "    total5 += my_list2[i5]\n",
    "    i5 -= 1\n",
    "\n",
    "print(total5)"
   ],
   "metadata": {
    "collapsed": false
   }
  },
  {
   "cell_type": "code",
   "execution_count": null,
   "outputs": [],
   "source": [],
   "metadata": {
    "collapsed": false
   }
  }
 ],
 "metadata": {
  "kernelspec": {
   "display_name": "Python 3",
   "language": "python",
   "name": "python3"
  },
  "language_info": {
   "codemirror_mode": {
    "name": "ipython",
    "version": 2
   },
   "file_extension": ".py",
   "mimetype": "text/x-python",
   "name": "python",
   "nbconvert_exporter": "python",
   "pygments_lexer": "ipython2",
   "version": "2.7.6"
  }
 },
 "nbformat": 4,
 "nbformat_minor": 0
}
