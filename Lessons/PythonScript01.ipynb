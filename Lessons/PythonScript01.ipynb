{
 "cells": [
  {
   "cell_type": "code",
   "execution_count": 1,
   "id": "12a86834",
   "metadata": {},
   "outputs": [
    {
     "name": "stdout",
     "output_type": "stream",
     "text": [
      "Hello world!\n"
     ]
    }
   ],
   "source": [
    "print (\"Hello world!\")"
   ]
  },
  {
   "cell_type": "code",
   "execution_count": 2,
   "id": "65a2f108",
   "metadata": {},
   "outputs": [
    {
     "name": "stdout",
     "output_type": "stream",
     "text": [
      "some string!\n"
     ]
    }
   ],
   "source": [
    "print ('some string!')"
   ]
  },
  {
   "cell_type": "code",
   "execution_count": 3,
   "id": "4e22300f",
   "metadata": {},
   "outputs": [
    {
     "name": "stdout",
     "output_type": "stream",
     "text": [
      "10\n",
      "15\n"
     ]
    }
   ],
   "source": [
    "print (10)\n",
    "print (15)"
   ]
  },
  {
   "cell_type": "code",
   "execution_count": 4,
   "id": "5ef5c3e3",
   "metadata": {
    "pycharm": {
     "is_executing": true
    }
   },
   "outputs": [
    {
     "name": "stdout",
     "output_type": "stream",
     "text": [
      "10 15\n"
     ]
    },
    {
     "ename": "NameError",
     "evalue": "name 'temp' is not defined",
     "output_type": "error",
     "traceback": [
      "\u001B[0;31m---------------------------------------------------------------------------\u001B[0m",
      "\u001B[0;31mNameError\u001B[0m                                 Traceback (most recent call last)",
      "Cell \u001B[0;32mIn[4], line 5\u001B[0m\n\u001B[1;32m      3\u001B[0m \u001B[39mprint\u001B[39m (a, b)\n\u001B[1;32m      4\u001B[0m a \u001B[39m=\u001B[39m b\n\u001B[0;32m----> 5\u001B[0m b \u001B[39m=\u001B[39m temp\n\u001B[1;32m      6\u001B[0m \u001B[39mprint\u001B[39m (a, b)\n",
      "\u001B[0;31mNameError\u001B[0m: name 'temp' is not defined"
     ]
    }
   ],
   "source": [
    "a = 10\n",
    "b = 15\n",
    "print (a, b)\n",
    "a = b\n",
    "b = temp\n",
    "print (a, b)"
   ]
  },
  {
   "cell_type": "code",
   "execution_count": 5,
   "id": "38e2b606",
   "metadata": {},
   "outputs": [
    {
     "name": "stdout",
     "output_type": "stream",
     "text": [
      "hi Sergey\n"
     ]
    }
   ],
   "source": [
    "name = input ('Enter your name')\n",
    "print(\"hi \"+name)"
   ]
  }
 ],
 "metadata": {
  "kernelspec": {
   "display_name": "Python 3",
   "language": "python",
   "name": "python3"
  },
  "language_info": {
   "codemirror_mode": {
    "name": "ipython",
    "version": 3
   },
   "file_extension": ".py",
   "mimetype": "text/x-python",
   "name": "python",
   "nbconvert_exporter": "python",
   "pygments_lexer": "ipython3",
   "version": "3.8.2"
  },
  "vscode": {
   "interpreter": {
    "hash": "31f2aee4e71d21fbe5cf8b01ff0e069b9275f58929596ceb00d14d90e3e16cd6"
   }
  }
 },
 "nbformat": 4,
 "nbformat_minor": 5
}
