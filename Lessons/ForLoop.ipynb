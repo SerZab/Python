{
 "cells": [
  {
   "cell_type": "code",
   "execution_count": 2,
   "id": "169fc1af",
   "metadata": {},
   "outputs": [],
   "source": [
    "a = ['hello', 'hey', 'goodbuy', 'python', 'java']"
   ]
  },
  {
   "cell_type": "code",
   "execution_count": 9,
   "id": "c479c8dd",
   "metadata": {},
   "outputs": [
    {
     "name": "stdout",
     "output_type": "stream",
     "text": [
      "hello\n",
      "hey\n",
      "goodbuy\n",
      "python\n",
      "java\n"
     ]
    }
   ],
   "source": [
    "for element in a:\n",
    "    print (element)"
   ]
  },
  {
   "cell_type": "code",
   "execution_count": 26,
   "id": "e93294d7",
   "metadata": {},
   "outputs": [
    {
     "name": "stdout",
     "output_type": "stream",
     "text": [
      "20\n",
      "30\n",
      "40\n",
      "60\n",
      "70\n",
      "60\n",
      "90\n"
     ]
    }
   ],
   "source": [
    "b = [20, 30, 40, 60, 70, 60, 90]\n",
    "for num in b:\n",
    "    print (num)"
   ]
  },
  {
   "cell_type": "code",
   "execution_count": 33,
   "id": "387205a3",
   "metadata": {},
   "outputs": [
    {
     "name": "stdout",
     "output_type": "stream",
     "text": [
      "20\n",
      "50\n",
      "90\n",
      "150\n",
      "220\n",
      "280\n",
      "370\n",
      "Total sum = 370\n"
     ]
    }
   ],
   "source": [
    "total_sum = 0\n",
    "for e in b:\n",
    "    total_sum = total_sum + e\n",
    "    print (total_sum)\n",
    "    \n",
    "print (\"Total sum = \"+ str(total_sum))"
   ]
  },
  {
   "cell_type": "code",
   "execution_count": 37,
   "id": "ac7fa7ca",
   "metadata": {},
   "outputs": [
    {
     "name": "stdout",
     "output_type": "stream",
     "text": [
      "[1, 2, 3, 4, 5, 6, 7, 8, 9, 10, 11, 12, 13, 14, 15, 16, 17, 18, 19, 20, 21, 22, 23, 24, 25, 26, 27, 28, 29, 30, 31, 32, 33, 34, 35, 36, 37, 38, 39, 40, 41, 42, 43, 44, 45, 46, 47, 48, 49, 50, 51, 52, 53, 54, 55, 56, 57, 58, 59, 60, 61, 62, 63, 64, 65, 66, 67, 68, 69, 70, 71, 72, 73, 74, 75, 76, 77, 78, 79, 80, 81, 82, 83, 84, 85, 86, 87, 88, 89, 90, 91, 92, 93, 94, 95, 96, 97, 98, 99, 100]\n"
     ]
    }
   ],
   "source": [
    "print (list(range(1, 101)))"
   ]
  },
  {
   "cell_type": "code",
   "execution_count": 39,
   "id": "f16ebde4",
   "metadata": {},
   "outputs": [
    {
     "name": "stdout",
     "output_type": "stream",
     "text": [
      "1\n",
      "2\n",
      "3\n",
      "4\n",
      "5\n",
      "6\n",
      "7\n",
      "8\n",
      "9\n"
     ]
    }
   ],
   "source": [
    "for i in range (1,10):\n",
    "    print (i)"
   ]
  },
  {
   "cell_type": "code",
   "execution_count": 53,
   "id": "7a5117d2",
   "metadata": {},
   "outputs": [
    {
     "name": "stdout",
     "output_type": "stream",
     "text": [
      "Sum + 1 = 1\n",
      "Sum + 2 = 3\n",
      "Sum + 3 = 6\n",
      "Sum + 4 = 10\n",
      "Sum + 5 = 15\n",
      "Sum + 6 = 21\n",
      "Sum + 7 = 28\n",
      "Sum + 8 = 36\n",
      "Sum + 9 = 45\n",
      "Sum + 10 = 55\n",
      "Total = 55\n"
     ]
    }
   ],
   "source": [
    "total = 0\n",
    "for i in range(1, 11):\n",
    "    total += i\n",
    "    print (\"Sum + \"+str(i)+\" = \"+str(total))\n",
    "print ('Total = '+str(total))"
   ]
  },
  {
   "cell_type": "code",
   "execution_count": 54,
   "id": "dbf09da4",
   "metadata": {},
   "outputs": [
    {
     "name": "stdout",
     "output_type": "stream",
     "text": [
      "[1, 2, 3, 4, 5, 6, 7, 8, 9, 10, 11, 12, 13, 14, 15, 16, 17, 18, 19, 20, 21, 22, 23, 24, 25, 26, 27, 28, 29, 30, 31, 32, 33, 34, 35, 36, 37, 38, 39, 40, 41, 42, 43, 44, 45, 46, 47, 48, 49, 50, 51, 52, 53, 54, 55, 56, 57, 58, 59, 60, 61, 62, 63, 64, 65, 66, 67, 68, 69, 70, 71, 72, 73, 74, 75, 76, 77, 78, 79, 80, 81, 82, 83, 84, 85, 86, 87, 88, 89, 90, 91, 92, 93, 94, 95, 96, 97, 98, 99, 100]\n"
     ]
    }
   ],
   "source": [
    "print (list(range(1, 101)))"
   ]
  },
  {
   "cell_type": "code",
   "execution_count": 66,
   "id": "d57dc8ad",
   "metadata": {},
   "outputs": [
    {
     "name": "stdout",
     "output_type": "stream",
     "text": [
      "2318\n"
     ]
    }
   ],
   "source": [
    "total = 0\n",
    "for i in range (1,100):\n",
    "    if i % 3 == 0 or i % 5 == 0:\n",
    "        total +=i\n",
    "print (total)"
   ]
  },
  {
   "cell_type": "code",
   "execution_count": 67,
   "id": "3834d90c",
   "metadata": {},
   "outputs": [],
   "source": [
    "def tot_sum (n, k):\n",
    "    if n > 20:\n",
    "        print (0)\n",
    "    else:\n",
    "        ak = 0\n",
    "        for i in range(1, n + 1):\n",
    "            if i % 2 == 0:\n",
    "                ak += i ** k\n",
    "        print (ak)"
   ]
  },
  {
   "cell_type": "code",
   "execution_count": null,
   "id": "b354ff48",
   "metadata": {},
   "outputs": [],
   "source": []
  }
 ],
 "metadata": {
  "kernelspec": {
   "display_name": "Python 3 (ipykernel)",
   "language": "python",
   "name": "python3"
  },
  "language_info": {
   "codemirror_mode": {
    "name": "ipython",
    "version": 3
   },
   "file_extension": ".py",
   "mimetype": "text/x-python",
   "name": "python",
   "nbconvert_exporter": "python",
   "pygments_lexer": "ipython3",
   "version": "3.9.13"
  }
 },
 "nbformat": 4,
 "nbformat_minor": 5
}
