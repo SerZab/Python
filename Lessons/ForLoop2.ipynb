{
 "cells": [
  {
   "cell_type": "code",
   "execution_count": 11,
   "metadata": {
    "collapsed": true
   },
   "outputs": [],
   "source": [
    "names = ['Mikes', 'Tom', 'Katy', 'Alex', 'Albert', 'some element']"
   ]
  },
  {
   "cell_type": "code",
   "execution_count": 12,
   "outputs": [
    {
     "name": "stdout",
     "output_type": "stream",
     "text": [
      "Mikes\n",
      "Tom\n",
      "Katy\n",
      "Alex\n",
      "Albert\n",
      "some element\n"
     ]
    }
   ],
   "source": [
    "for i in names:\n",
    "    print(i)"
   ],
   "metadata": {
    "collapsed": false
   }
  },
  {
   "cell_type": "code",
   "execution_count": 13,
   "outputs": [
    {
     "name": "stdout",
     "output_type": "stream",
     "text": [
      "Mikes\n",
      "Tom\n",
      "Katy\n",
      "Alex\n",
      "Albert\n",
      "some element\n"
     ]
    }
   ],
   "source": [
    "for i in range (len(names)):\n",
    "    print(names[i])"
   ],
   "metadata": {
    "collapsed": false
   }
  },
  {
   "cell_type": "code",
   "execution_count": 14,
   "outputs": [
    {
     "name": "stdout",
     "output_type": "stream",
     "text": [
      "Mikes\n",
      "Tom\n",
      "Tom\n",
      "Katy\n",
      "Katy\n",
      "Katy\n",
      "Alex\n",
      "Alex\n",
      "Alex\n",
      "Alex\n",
      "Albert\n",
      "Albert\n",
      "Albert\n",
      "Albert\n",
      "Albert\n",
      "some element\n",
      "some element\n",
      "some element\n",
      "some element\n",
      "some element\n",
      "some element\n"
     ]
    }
   ],
   "source": [
    "for i in range(len(names)):\n",
    "    for j in range(i+1):\n",
    "        print(names[i])"
   ],
   "metadata": {
    "collapsed": false
   }
  },
  {
   "cell_type": "code",
   "execution_count": null,
   "outputs": [],
   "source": [],
   "metadata": {
    "collapsed": false
   }
  }
 ],
 "metadata": {
  "kernelspec": {
   "display_name": "Python 3",
   "language": "python",
   "name": "python3"
  },
  "language_info": {
   "codemirror_mode": {
    "name": "ipython",
    "version": 2
   },
   "file_extension": ".py",
   "mimetype": "text/x-python",
   "name": "python",
   "nbconvert_exporter": "python",
   "pygments_lexer": "ipython2",
   "version": "2.7.6"
  }
 },
 "nbformat": 4,
 "nbformat_minor": 0
}
